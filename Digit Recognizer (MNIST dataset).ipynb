{
 "cells": [
  {
   "cell_type": "markdown",
   "metadata": {},
   "source": [
    "**Digit recognizer**"
   ]
  },
  {
   "cell_type": "markdown",
   "metadata": {},
   "source": [
    "**Data**: MNIST dataset"
   ]
  },
  {
   "cell_type": "markdown",
   "metadata": {},
   "source": [
    "**Goal**: Build a deep learning model to predict a which number a hand written digit is. "
   ]
  },
  {
   "cell_type": "markdown",
   "metadata": {},
   "source": [
    "**By using Pytorch**"
   ]
  },
  {
   "cell_type": "code",
   "execution_count": 1,
   "metadata": {},
   "outputs": [],
   "source": [
    "import numpy as np\n",
    "import torch\n",
    "import torch.nn as nn\n",
    "import torch.optim as optim\n",
    "import torchvision\n",
    "from torchvision import datasets,transforms\n",
    "import random\n",
    "import torch.nn.functional as F"
   ]
  },
  {
   "cell_type": "code",
   "execution_count": 2,
   "metadata": {},
   "outputs": [],
   "source": [
    "class Net(nn.Module):\n",
    "    def __init__(self):\n",
    "        super(Net,self).__init__()\n",
    "        self.fc1=nn.Linear(784,30)\n",
    "        self.fc2=nn.Linear(30,10)\n",
    "    def forward(self,x):\n",
    "        l1=self.fc1(x)\n",
    "        al1=torch.sigmoid(l1)\n",
    "        l2=self.fc2(al1)\n",
    "        al2=torch.sigmoid(l2)\n",
    "        return al2\n",
    "    "
   ]
  },
  {
   "cell_type": "code",
   "execution_count": 3,
   "metadata": {},
   "outputs": [],
   "source": [
    "def train(model,use_cuda,train_loader,optimizer,epoch):\n",
    "    model.train()\n",
    "    for batchid,(data,target) in enumerate(train_loader):\n",
    "        y_onehot = torch.zeros([target.shape[0], 10])  # Zero vector of shape [batch_size, 10]\n",
    "        y_onehot[range(target.shape[0]), target] = 1\n",
    "\n",
    "        data = data.view([data.shape[0], 784]) # [batch_size,784]\n",
    "        if use_cuda:\n",
    "            data,y_onehot=data.cuda(),y_onehot.cuda()\n",
    "        optimizer.zero_grad()\n",
    "        output=model(data)\n",
    "        loss=torch.mean((output-y_onehot)**2)\n",
    "        loss.backward()\n",
    "        optimizer.step()\n",
    "        if batchid % 100 == 0:\n",
    "            print('Train Epoch: {} [{}/{} ({:.0f}%)]\\tLoss: {:.6f}'.format(\n",
    "            epoch, batchid * len(data), len(train_loader.dataset),\n",
    "            100. * batchid / len(train_loader), loss.item()))"
   ]
  },
  {
   "cell_type": "code",
   "execution_count": 4,
   "metadata": {},
   "outputs": [],
   "source": [
    "def test(model,use_cuda,test_loader):\n",
    "    model.eval()\n",
    "    test_loss=0\n",
    "    correct=0\n",
    "    with torch.no_grad():\n",
    "        for data,target in test_loader:\n",
    "            data=data.reshape([data.shape[0],784])\n",
    "            y_onehot=torch.zeros([target.shape[0],10])\n",
    "            y_onehot[range(target.shape[0]),target]=1\n",
    "            if use_cuda:\n",
    "                data,y_onehot=data.cuda(),y_onehot.cuda()\n",
    "            output=model(data)\n",
    "            test_loss+=torch.sum((output-y_onehot)**2)\n",
    "            pred=output.argmax(dim=1,keepdim=True)\n",
    "            correct += pred.eq(target.view_as(pred)).sum().item() \n",
    "        test_loss/=len(test_loader.dataset)\n",
    "        print(test_loss,100*correct/len(test_loader.dataset))"
   ]
  },
  {
   "cell_type": "code",
   "execution_count": 5,
   "metadata": {},
   "outputs": [],
   "source": [
    "def seed(seed_value):\n",
    "    torch.cuda.manual_seed_all(seed_value)\n",
    "    torch.manual_seed(seed_value)\n",
    "    torch.cuda.manual_seed(seed_value)\n",
    "    np.random.seed(seed_value)\n",
    "    random.seed(seed_value)\n",
    "    torch.backends.cudnn.benchmark=False\n",
    "    torch.backends.cudnn.deterministic=True"
   ]
  },
  {
   "cell_type": "code",
   "execution_count": 7,
   "metadata": {},
   "outputs": [],
   "source": [
    "def main():\n",
    "    use_cuda=False\n",
    "    seed(0)\n",
    "    transform=transforms.Compose([\n",
    "        transforms.ToTensor(),\n",
    "        transforms.Normalize((0.1307,),(0.3081,))\n",
    "    ])#normalizing and transforming data to tensor\n",
    "    data1=datasets.MNIST('../data',download=True,train=True,transform=transform)\n",
    "    data2=datasets.MNIST('../data',train=False,transform=transform)\n",
    "    #loading data using torch's inbuilt dataloader\n",
    "    train_loader=torch.utils.data.DataLoader(data1,num_workers=6,batch_size=64,shuffle=True)\n",
    "    test_loader=torch.utils.data.DataLoader(data2,num_workers=6,batch_size=1000,shuffle=False)\n",
    "    model=Net()\n",
    "    if use_cuda:\n",
    "        model=model.cuda()\n",
    "    optimizer=optim.SGD(model.parameters(),lr=10)\n",
    "    for epoch in range(1,11):\n",
    "        train(model,use_cuda,train_loader,optimizer,epoch)\n",
    "        test(model,use_cuda,test_loader)\n",
    "    torch.save(model.state_dict(),\"mnist_cnn.pt\")  #saving the model\n",
    "    model.load_state_dict(torch.load(\"mnist_cnn.pt\"))"
   ]
  },
  {
   "cell_type": "code",
   "execution_count": 8,
   "metadata": {},
   "outputs": [
    {
     "name": "stdout",
     "output_type": "stream",
     "text": [
      "Train Epoch: 1 [0/60000 (0%)]\tLoss: 0.285145\n",
      "Train Epoch: 1 [6400/60000 (11%)]\tLoss: 0.035109\n",
      "Train Epoch: 1 [12800/60000 (21%)]\tLoss: 0.022455\n",
      "Train Epoch: 1 [19200/60000 (32%)]\tLoss: 0.016793\n",
      "Train Epoch: 1 [25600/60000 (43%)]\tLoss: 0.017698\n",
      "Train Epoch: 1 [32000/60000 (53%)]\tLoss: 0.021430\n",
      "Train Epoch: 1 [38400/60000 (64%)]\tLoss: 0.014029\n",
      "Train Epoch: 1 [44800/60000 (75%)]\tLoss: 0.008732\n",
      "Train Epoch: 1 [51200/60000 (85%)]\tLoss: 0.013671\n",
      "Train Epoch: 1 [57600/60000 (96%)]\tLoss: 0.016153\n",
      "tensor(0.1293) 92.58\n",
      "Train Epoch: 2 [0/60000 (0%)]\tLoss: 0.008964\n",
      "Train Epoch: 2 [6400/60000 (11%)]\tLoss: 0.006504\n",
      "Train Epoch: 2 [12800/60000 (21%)]\tLoss: 0.009314\n",
      "Train Epoch: 2 [19200/60000 (32%)]\tLoss: 0.004609\n",
      "Train Epoch: 2 [25600/60000 (43%)]\tLoss: 0.013835\n",
      "Train Epoch: 2 [32000/60000 (53%)]\tLoss: 0.021412\n",
      "Train Epoch: 2 [38400/60000 (64%)]\tLoss: 0.010659\n",
      "Train Epoch: 2 [44800/60000 (75%)]\tLoss: 0.004104\n",
      "Train Epoch: 2 [51200/60000 (85%)]\tLoss: 0.009219\n",
      "Train Epoch: 2 [57600/60000 (96%)]\tLoss: 0.005467\n",
      "tensor(0.1072) 93.77\n",
      "Train Epoch: 3 [0/60000 (0%)]\tLoss: 0.007609\n",
      "Train Epoch: 3 [6400/60000 (11%)]\tLoss: 0.011521\n",
      "Train Epoch: 3 [12800/60000 (21%)]\tLoss: 0.008501\n",
      "Train Epoch: 3 [19200/60000 (32%)]\tLoss: 0.015971\n",
      "Train Epoch: 3 [25600/60000 (43%)]\tLoss: 0.006641\n",
      "Train Epoch: 3 [32000/60000 (53%)]\tLoss: 0.011453\n",
      "Train Epoch: 3 [38400/60000 (64%)]\tLoss: 0.008717\n",
      "Train Epoch: 3 [44800/60000 (75%)]\tLoss: 0.013753\n",
      "Train Epoch: 3 [51200/60000 (85%)]\tLoss: 0.007982\n",
      "Train Epoch: 3 [57600/60000 (96%)]\tLoss: 0.008468\n",
      "tensor(0.0980) 94.12\n",
      "Train Epoch: 4 [0/60000 (0%)]\tLoss: 0.013763\n",
      "Train Epoch: 4 [6400/60000 (11%)]\tLoss: 0.012574\n",
      "Train Epoch: 4 [12800/60000 (21%)]\tLoss: 0.016110\n",
      "Train Epoch: 4 [19200/60000 (32%)]\tLoss: 0.007436\n",
      "Train Epoch: 4 [25600/60000 (43%)]\tLoss: 0.006409\n",
      "Train Epoch: 4 [32000/60000 (53%)]\tLoss: 0.012453\n",
      "Train Epoch: 4 [38400/60000 (64%)]\tLoss: 0.003608\n",
      "Train Epoch: 4 [44800/60000 (75%)]\tLoss: 0.007063\n",
      "Train Epoch: 4 [51200/60000 (85%)]\tLoss: 0.009318\n",
      "Train Epoch: 4 [57600/60000 (96%)]\tLoss: 0.009706\n",
      "tensor(0.0957) 94.33\n",
      "Train Epoch: 5 [0/60000 (0%)]\tLoss: 0.007266\n",
      "Train Epoch: 5 [6400/60000 (11%)]\tLoss: 0.006465\n",
      "Train Epoch: 5 [12800/60000 (21%)]\tLoss: 0.013682\n",
      "Train Epoch: 5 [19200/60000 (32%)]\tLoss: 0.007779\n",
      "Train Epoch: 5 [25600/60000 (43%)]\tLoss: 0.005149\n",
      "Train Epoch: 5 [32000/60000 (53%)]\tLoss: 0.008331\n",
      "Train Epoch: 5 [38400/60000 (64%)]\tLoss: 0.007827\n",
      "Train Epoch: 5 [44800/60000 (75%)]\tLoss: 0.007767\n",
      "Train Epoch: 5 [51200/60000 (85%)]\tLoss: 0.006478\n",
      "Train Epoch: 5 [57600/60000 (96%)]\tLoss: 0.013309\n",
      "tensor(0.0904) 94.77\n",
      "Train Epoch: 6 [0/60000 (0%)]\tLoss: 0.008112\n",
      "Train Epoch: 6 [6400/60000 (11%)]\tLoss: 0.009326\n",
      "Train Epoch: 6 [12800/60000 (21%)]\tLoss: 0.008091\n",
      "Train Epoch: 6 [19200/60000 (32%)]\tLoss: 0.009440\n",
      "Train Epoch: 6 [25600/60000 (43%)]\tLoss: 0.004440\n",
      "Train Epoch: 6 [32000/60000 (53%)]\tLoss: 0.003714\n",
      "Train Epoch: 6 [38400/60000 (64%)]\tLoss: 0.007129\n",
      "Train Epoch: 6 [44800/60000 (75%)]\tLoss: 0.004096\n",
      "Train Epoch: 6 [51200/60000 (85%)]\tLoss: 0.008722\n",
      "Train Epoch: 6 [57600/60000 (96%)]\tLoss: 0.009239\n",
      "tensor(0.0899) 94.59\n",
      "Train Epoch: 7 [0/60000 (0%)]\tLoss: 0.007615\n",
      "Train Epoch: 7 [6400/60000 (11%)]\tLoss: 0.005865\n",
      "Train Epoch: 7 [12800/60000 (21%)]\tLoss: 0.006462\n",
      "Train Epoch: 7 [19200/60000 (32%)]\tLoss: 0.008450\n",
      "Train Epoch: 7 [25600/60000 (43%)]\tLoss: 0.008097\n",
      "Train Epoch: 7 [32000/60000 (53%)]\tLoss: 0.006116\n",
      "Train Epoch: 7 [38400/60000 (64%)]\tLoss: 0.004375\n",
      "Train Epoch: 7 [44800/60000 (75%)]\tLoss: 0.005383\n",
      "Train Epoch: 7 [51200/60000 (85%)]\tLoss: 0.005089\n",
      "Train Epoch: 7 [57600/60000 (96%)]\tLoss: 0.004122\n",
      "tensor(0.0862) 94.92\n",
      "Train Epoch: 8 [0/60000 (0%)]\tLoss: 0.009279\n",
      "Train Epoch: 8 [6400/60000 (11%)]\tLoss: 0.005073\n",
      "Train Epoch: 8 [12800/60000 (21%)]\tLoss: 0.005515\n",
      "Train Epoch: 8 [19200/60000 (32%)]\tLoss: 0.004313\n",
      "Train Epoch: 8 [25600/60000 (43%)]\tLoss: 0.006004\n",
      "Train Epoch: 8 [32000/60000 (53%)]\tLoss: 0.007781\n",
      "Train Epoch: 8 [38400/60000 (64%)]\tLoss: 0.004134\n",
      "Train Epoch: 8 [44800/60000 (75%)]\tLoss: 0.004942\n",
      "Train Epoch: 8 [51200/60000 (85%)]\tLoss: 0.012422\n",
      "Train Epoch: 8 [57600/60000 (96%)]\tLoss: 0.008297\n",
      "tensor(0.0845) 95.12\n",
      "Train Epoch: 9 [0/60000 (0%)]\tLoss: 0.004459\n",
      "Train Epoch: 9 [6400/60000 (11%)]\tLoss: 0.006411\n",
      "Train Epoch: 9 [12800/60000 (21%)]\tLoss: 0.005159\n",
      "Train Epoch: 9 [19200/60000 (32%)]\tLoss: 0.012558\n",
      "Train Epoch: 9 [25600/60000 (43%)]\tLoss: 0.009532\n",
      "Train Epoch: 9 [32000/60000 (53%)]\tLoss: 0.006734\n",
      "Train Epoch: 9 [38400/60000 (64%)]\tLoss: 0.004614\n",
      "Train Epoch: 9 [44800/60000 (75%)]\tLoss: 0.013831\n",
      "Train Epoch: 9 [51200/60000 (85%)]\tLoss: 0.007974\n",
      "Train Epoch: 9 [57600/60000 (96%)]\tLoss: 0.003389\n",
      "tensor(0.0846) 95.01\n",
      "Train Epoch: 10 [0/60000 (0%)]\tLoss: 0.003765\n",
      "Train Epoch: 10 [6400/60000 (11%)]\tLoss: 0.012722\n",
      "Train Epoch: 10 [12800/60000 (21%)]\tLoss: 0.004698\n",
      "Train Epoch: 10 [19200/60000 (32%)]\tLoss: 0.012681\n",
      "Train Epoch: 10 [25600/60000 (43%)]\tLoss: 0.008263\n",
      "Train Epoch: 10 [32000/60000 (53%)]\tLoss: 0.004170\n",
      "Train Epoch: 10 [38400/60000 (64%)]\tLoss: 0.005476\n",
      "Train Epoch: 10 [44800/60000 (75%)]\tLoss: 0.006656\n",
      "Train Epoch: 10 [51200/60000 (85%)]\tLoss: 0.004369\n",
      "Train Epoch: 10 [57600/60000 (96%)]\tLoss: 0.008720\n",
      "tensor(0.0809) 95.25\n"
     ]
    }
   ],
   "source": [
    "if __name__==\"__main__\":\n",
    "    main()"
   ]
  },
  {
   "cell_type": "markdown",
   "metadata": {},
   "source": [
    "**Using Keras to build a NN model**"
   ]
  },
  {
   "cell_type": "code",
   "execution_count": 9,
   "metadata": {},
   "outputs": [],
   "source": [
    "import tensorflow"
   ]
  },
  {
   "cell_type": "code",
   "execution_count": 10,
   "metadata": {},
   "outputs": [],
   "source": [
    "from keras.models import Sequential\n",
    "from keras.layers.core import Dense,Dropout,Activation"
   ]
  },
  {
   "cell_type": "code",
   "execution_count": 2,
   "metadata": {},
   "outputs": [],
   "source": [
    "from keras.datasets import mnist"
   ]
  },
  {
   "cell_type": "code",
   "execution_count": 12,
   "metadata": {},
   "outputs": [],
   "source": [
    "from keras.utils import np_utils"
   ]
  },
  {
   "cell_type": "code",
   "execution_count": 3,
   "metadata": {},
   "outputs": [],
   "source": [
    "(xt,yt),(xte,yte)=mnist.load_data()"
   ]
  },
  {
   "cell_type": "code",
   "execution_count": 6,
   "metadata": {},
   "outputs": [
    {
     "data": {
      "image/png": "[encoded data removed]",
      "text/plain": [
       "<Figure size 432x288 with 1 Axes>"
      ]
     },
     "metadata": {
      "needs_background": "light"
     },
     "output_type": "display_data"
    }
   ],
   "source": [
    "import matplotlib.pyplot as plt\n",
    "plt.imshow(xt[0])\n",
    "plt.show()"
   ]
  },
  {
   "cell_type": "code",
   "execution_count": 14,
   "metadata": {},
   "outputs": [],
   "source": [
    "xt=xt.reshape(60000,784).astype('float32')\n",
    "xte=xte.reshape(10000,784).astype('float32')\n",
    "xt/=255\n",
    "xte/=255"
   ]
  },
  {
   "cell_type": "code",
   "execution_count": 15,
   "metadata": {},
   "outputs": [],
   "source": [
    "nb_classes = 10 # number of unique digits\n",
    "\n",
    "Yt= np_utils.to_categorical(yt, nb_classes)\n",
    "Yte = np_utils.to_categorical(yte, nb_classes)"
   ]
  },
  {
   "cell_type": "code",
   "execution_count": 16,
   "metadata": {},
   "outputs": [],
   "source": [
    "model=Sequential()                        #Linear stacking of layers\n",
    "\n",
    "model.add(Dense(512,input_shape=(784,)))  #First layer with 512 nodes\n",
    "model.add(Activation('relu'))             #Relu activation function \n",
    "\n",
    "model.add(Dense(50))                      #second layer with 50 nodes\n",
    "model.add(Activation('relu'))             #relu activation layer\n",
    "model.add(Dropout(0.2))                   #20% dropout of randomly selected nodes\n",
    "\n",
    "model.add(Dense(10))                      #Final layer with 10 nodes and\n",
    "model.add(Activation('softmax'))          #softmax activation function"
   ]
  },
  {
   "cell_type": "code",
   "execution_count": 17,
   "metadata": {},
   "outputs": [
    {
     "name": "stdout",
     "output_type": "stream",
     "text": [
      "Model: \"sequential\"\n",
      "_________________________________________________________________\n",
      "Layer (type)                 Output Shape              Param #   \n",
      "=================================================================\n",
      "dense (Dense)                (None, 512)               401920    \n",
      "_________________________________________________________________\n",
      "activation (Activation)      (None, 512)               0         \n",
      "_________________________________________________________________\n",
      "dense_1 (Dense)              (None, 50)                25650     \n",
      "_________________________________________________________________\n",
      "activation_1 (Activation)    (None, 50)                0         \n",
      "_________________________________________________________________\n",
      "dropout (Dropout)            (None, 50)                0         \n",
      "_________________________________________________________________\n",
      "dense_2 (Dense)              (None, 10)                510       \n",
      "_________________________________________________________________\n",
      "activation_2 (Activation)    (None, 10)                0         \n",
      "=================================================================\n",
      "Total params: 428,080\n",
      "Trainable params: 428,080\n",
      "Non-trainable params: 0\n",
      "_________________________________________________________________\n"
     ]
    }
   ],
   "source": [
    "model.summary()"
   ]
  },
  {
   "cell_type": "code",
   "execution_count": 18,
   "metadata": {},
   "outputs": [],
   "source": [
    "model.compile(loss='sparse_categorical_crossentropy', optimizer='adam', metrics=['accuracy'])"
   ]
  },
  {
   "cell_type": "code",
   "execution_count": 19,
   "metadata": {},
   "outputs": [
    {
     "name": "stdout",
     "output_type": "stream",
     "text": [
      "Epoch 1/10\n",
      "938/938 [==============================] - 34s 7ms/step - loss: 0.4773 - accuracy: 0.8537\n",
      "Epoch 2/10\n",
      "938/938 [==============================] - 6s 7ms/step - loss: 0.1155 - accuracy: 0.9656\n",
      "Epoch 3/10\n",
      "938/938 [==============================] - 6s 7ms/step - loss: 0.0761 - accuracy: 0.9777\n",
      "Epoch 4/10\n",
      "938/938 [==============================] - 6s 7ms/step - loss: 0.0563 - accuracy: 0.9824\n",
      "Epoch 5/10\n",
      "938/938 [==============================] - 5s 6ms/step - loss: 0.0404 - accuracy: 0.9873\n",
      "Epoch 6/10\n",
      "938/938 [==============================] - 6s 7ms/step - loss: 0.0348 - accuracy: 0.9896\n",
      "Epoch 7/10\n",
      "938/938 [==============================] - 6s 6ms/step - loss: 0.0295 - accuracy: 0.9900\n",
      "Epoch 8/10\n",
      "938/938 [==============================] - 6s 7ms/step - loss: 0.0227 - accuracy: 0.9925\n",
      "Epoch 9/10\n",
      "938/938 [==============================] - 6s 7ms/step - loss: 0.0205 - accuracy: 0.9937\n",
      "Epoch 10/10\n",
      "938/938 [==============================] - 6s 6ms/step - loss: 0.0157 - accuracy: 0.9946\n"
     ]
    },
    {
     "data": {
      "text/plain": [
       "<keras.callbacks.History at 0x1efbb894b48>"
      ]
     },
     "execution_count": 19,
     "metadata": {},
     "output_type": "execute_result"
    }
   ],
   "source": [
    "model.fit(x=xt,y=yt,batch_size=64,epochs=10)"
   ]
  },
  {
   "cell_type": "code",
   "execution_count": 20,
   "metadata": {},
   "outputs": [
    {
     "name": "stdout",
     "output_type": "stream",
     "text": [
      "313/313 [==============================] - 2s 3ms/step - loss: 0.0716 - accuracy: 0.9832\n",
      "Test score: 0.07161170989274979\n",
      "Test accuracy: 0.9832000136375427\n"
     ]
    }
   ],
   "source": [
    "score = model.evaluate(xte,yte)\n",
    "print('Test score:', score[0])\n",
    "print('Test accuracy:', score[1])"
   ]
  },
  {
   "cell_type": "markdown",
   "metadata": {},
   "source": [
    "**Adding convolution and maxpooling layers**"
   ]
  },
  {
   "cell_type": "code",
   "execution_count": 21,
   "metadata": {},
   "outputs": [],
   "source": [
    "from keras.preprocessing.image import ImageDataGenerator\n",
    "from keras.layers import Conv2D, MaxPooling2D, ZeroPadding2D, GlobalAveragePooling2D, Flatten\n",
    "from keras.layers.normalization import BatchNormalization"
   ]
  },
  {
   "cell_type": "code",
   "execution_count": 22,
   "metadata": {},
   "outputs": [],
   "source": [
    "(X_train, y_train), (X_test, y_test) = mnist.load_data()"
   ]
  },
  {
   "cell_type": "code",
   "execution_count": 23,
   "metadata": {},
   "outputs": [
    {
     "name": "stdout",
     "output_type": "stream",
     "text": [
      "Training matrix shape (60000, 28, 28, 1)\n",
      "Testing matrix shape (10000, 28, 28, 1)\n"
     ]
    }
   ],
   "source": [
    "X_train = X_train.reshape(60000, 28, 28, 1) #add an additional dimension to represent the single-channel\n",
    "X_test = X_test.reshape(10000, 28, 28, 1)\n",
    "\n",
    "X_train = X_train.astype('float32')         # change integers to 32-bit floating point numbers\n",
    "X_test = X_test.astype('float32')\n",
    "\n",
    "X_train /= 255                              # normalize each value for each pixel for the entire vector for each input\n",
    "X_test /= 255\n",
    "\n",
    "print(\"Training matrix shape\", X_train.shape)\n",
    "print(\"Testing matrix shape\", X_test.shape)"
   ]
  },
  {
   "cell_type": "code",
   "execution_count": 24,
   "metadata": {},
   "outputs": [],
   "source": [
    "nb_classes = 10 # number of unique digits\n",
    "\n",
    "Y_train = np_utils.to_categorical(y_train, nb_classes)\n",
    "Y_test = np_utils.to_categorical(y_test, nb_classes)"
   ]
  },
  {
   "cell_type": "code",
   "execution_count": 25,
   "metadata": {},
   "outputs": [],
   "source": [
    "model = Sequential()                                 # Linear stacking of layers\n",
    "\n",
    "# Convolution Layer 1\n",
    "model.add(Conv2D(32, (3, 3), input_shape=(28,28,1))) # 32 different 3x3 kernels -- so 32 feature maps\n",
    "model.add(BatchNormalization(axis=-1))               # normalize each feature map before activation\n",
    "convLayer01 = Activation('relu')                     # activation\n",
    "model.add(convLayer01)\n",
    "\n",
    "# Convolution Layer 2\n",
    "model.add(Conv2D(32, (3, 3)))                        # 32 different 3x3 kernels -- so 32 feature maps\n",
    "model.add(BatchNormalization(axis=-1))               # normalize each feature map before activation\n",
    "model.add(Activation('relu'))                        # activation\n",
    "convLayer02 = MaxPooling2D(pool_size=(2,2))          # Pool the max values over a 2x2 kernel\n",
    "model.add(convLayer02)\n",
    "\n",
    "# Convolution Layer 3\n",
    "model.add(Conv2D(64,(3, 3)))                         # 64 different 3x3 kernels -- so 64 feature maps\n",
    "model.add(BatchNormalization(axis=-1))               # normalize each feature map before activation\n",
    "convLayer03 = Activation('relu')                     # activation\n",
    "model.add(convLayer03)\n",
    "\n",
    "# Convolution Layer 4\n",
    "model.add(Conv2D(64, (3, 3)))                        # 64 different 3x3 kernels -- so 64 feature maps\n",
    "model.add(BatchNormalization(axis=-1))               # normalize each feature map before activation\n",
    "model.add(Activation('relu'))                        # activation\n",
    "convLayer04 = MaxPooling2D(pool_size=(2,2))          # Pool the max values over a 2x2 kernel\n",
    "model.add(convLayer04)\n",
    "model.add(Flatten())                                 # Flatten final 4x4x64 output matrix into a 1024-length vector\n",
    "\n",
    "# Fully Connected Layer 5\n",
    "model.add(Dense(512))                                # 512 FCN nodes\n",
    "model.add(BatchNormalization())                      # normalization\n",
    "model.add(Activation('relu'))                        # activation\n",
    "\n",
    "# Fully Connected Layer 6                       \n",
    "model.add(Dropout(0.2))                              # 20% dropout of randomly selected nodes\n",
    "model.add(Dense(10))                                 # final 10 FCN nodes\n",
    "model.add(Activation('softmax'))                     # softmax activation"
   ]
  },
  {
   "cell_type": "code",
   "execution_count": 26,
   "metadata": {},
   "outputs": [
    {
     "name": "stdout",
     "output_type": "stream",
     "text": [
      "Model: \"sequential_1\"\n",
      "_________________________________________________________________\n",
      "Layer (type)                 Output Shape              Param #   \n",
      "=================================================================\n",
      "conv2d (Conv2D)              (None, 26, 26, 32)        320       \n",
      "_________________________________________________________________\n",
      "batch_normalization (BatchNo (None, 26, 26, 32)        128       \n",
      "_________________________________________________________________\n",
      "activation_3 (Activation)    (None, 26, 26, 32)        0         \n",
      "_________________________________________________________________\n",
      "conv2d_1 (Conv2D)            (None, 24, 24, 32)        9248      \n",
      "_________________________________________________________________\n",
      "batch_normalization_1 (Batch (None, 24, 24, 32)        128       \n",
      "_________________________________________________________________\n",
      "activation_4 (Activation)    (None, 24, 24, 32)        0         \n",
      "_________________________________________________________________\n",
      "max_pooling2d (MaxPooling2D) (None, 12, 12, 32)        0         \n",
      "_________________________________________________________________\n",
      "conv2d_2 (Conv2D)            (None, 10, 10, 64)        18496     \n",
      "_________________________________________________________________\n",
      "batch_normalization_2 (Batch (None, 10, 10, 64)        256       \n",
      "_________________________________________________________________\n",
      "activation_5 (Activation)    (None, 10, 10, 64)        0         \n",
      "_________________________________________________________________\n",
      "conv2d_3 (Conv2D)            (None, 8, 8, 64)          36928     \n",
      "_________________________________________________________________\n",
      "batch_normalization_3 (Batch (None, 8, 8, 64)          256       \n",
      "_________________________________________________________________\n",
      "activation_6 (Activation)    (None, 8, 8, 64)          0         \n",
      "_________________________________________________________________\n",
      "max_pooling2d_1 (MaxPooling2 (None, 4, 4, 64)          0         \n",
      "_________________________________________________________________\n",
      "flatten (Flatten)            (None, 1024)              0         \n",
      "_________________________________________________________________\n",
      "dense_3 (Dense)              (None, 512)               524800    \n",
      "_________________________________________________________________\n",
      "batch_normalization_4 (Batch (None, 512)               2048      \n",
      "_________________________________________________________________\n",
      "activation_7 (Activation)    (None, 512)               0         \n",
      "_________________________________________________________________\n",
      "dropout_1 (Dropout)          (None, 512)               0         \n",
      "_________________________________________________________________\n",
      "dense_4 (Dense)              (None, 10)                5130      \n",
      "_________________________________________________________________\n",
      "activation_8 (Activation)    (None, 10)                0         \n",
      "=================================================================\n",
      "Total params: 597,738\n",
      "Trainable params: 596,330\n",
      "Non-trainable params: 1,408\n",
      "_________________________________________________________________\n"
     ]
    }
   ],
   "source": [
    "model.summary()"
   ]
  },
  {
   "cell_type": "code",
   "execution_count": 27,
   "metadata": {},
   "outputs": [],
   "source": [
    "model.compile(loss='categorical_crossentropy', optimizer='adam', metrics=['accuracy'])"
   ]
  },
  {
   "cell_type": "code",
   "execution_count": 28,
   "metadata": {},
   "outputs": [],
   "source": [
    "gen = ImageDataGenerator(rotation_range=8, width_shift_range=0.08, shear_range=0.3,\n",
    "                         height_shift_range=0.08, zoom_range=0.08)\n",
    "\n",
    "test_gen = ImageDataGenerator()"
   ]
  },
  {
   "cell_type": "code",
   "execution_count": 29,
   "metadata": {},
   "outputs": [],
   "source": [
    "train_generator = gen.flow(X_train, Y_train, batch_size=128)\n",
    "test_generator = test_gen.flow(X_test, Y_test, batch_size=128)"
   ]
  },
  {
   "cell_type": "code",
   "execution_count": 30,
   "metadata": {},
   "outputs": [
    {
     "name": "stderr",
     "output_type": "stream",
     "text": [
      "C:\\Users\\user\\anaconda3\\lib\\site-packages\\keras\\engine\\training.py:1915: UserWarning: `Model.fit_generator` is deprecated and will be removed in a future version. Please use `Model.fit`, which supports generators.\n",
      "  warnings.warn('`Model.fit_generator` is deprecated and '\n"
     ]
    },
    {
     "name": "stdout",
     "output_type": "stream",
     "text": [
      "Epoch 1/5\n",
      "468/468 [==============================] - 128s 247ms/step - loss: 0.2829 - accuracy: 0.9078 - val_loss: 0.0657 - val_accuracy: 0.9812\n",
      "Epoch 2/5\n",
      "468/468 [==============================] - 113s 241ms/step - loss: 0.0533 - accuracy: 0.9832 - val_loss: 0.0299 - val_accuracy: 0.9900\n",
      "Epoch 3/5\n",
      "468/468 [==============================] - 112s 240ms/step - loss: 0.0408 - accuracy: 0.9871 - val_loss: 0.0925 - val_accuracy: 0.9693\n",
      "Epoch 4/5\n",
      "468/468 [==============================] - 112s 240ms/step - loss: 0.0309 - accuracy: 0.9903 - val_loss: 0.0428 - val_accuracy: 0.9869\n",
      "Epoch 5/5\n",
      "468/468 [==============================] - 110s 235ms/step - loss: 0.0301 - accuracy: 0.9904 - val_loss: 0.0201 - val_accuracy: 0.9930\n"
     ]
    },
    {
     "data": {
      "text/plain": [
       "<keras.callbacks.History at 0x1efbbb4de88>"
      ]
     },
     "execution_count": 30,
     "metadata": {},
     "output_type": "execute_result"
    }
   ],
   "source": [
    "model.fit_generator(train_generator, steps_per_epoch=60000//128, epochs=5, verbose=1, \n",
    "                    validation_data=test_generator, validation_steps=10000//128)"
   ]
  },
  {
   "cell_type": "code",
   "execution_count": 31,
   "metadata": {},
   "outputs": [
    {
     "name": "stdout",
     "output_type": "stream",
     "text": [
      "313/313 [==============================] - 7s 21ms/step - loss: 0.0201 - accuracy: 0.9930 0s - loss: 0.0195 - accu\n",
      "Test score: 0.02006812021136284\n",
      "Test accuracy: 0.9929999709129333\n"
     ]
    }
   ],
   "source": [
    "score = model.evaluate(X_test, Y_test)\n",
    "print('Test score:', score[0])\n",
    "print('Test accuracy:', score[1])"
   ]
  },
  {
   "cell_type": "code",
   "execution_count": null,
   "metadata": {},
   "outputs": [],
   "source": []
  }
 ],
 "metadata": {
  "kernelspec": {
   "display_name": "Python 3",
   "language": "python",
   "name": "python3"
  },
  "language_info": {
   "codemirror_mode": {
    "name": "ipython",
    "version": 3
   },
   "file_extension": ".py",
   "mimetype": "text/x-python",
   "name": "python",
   "nbconvert_exporter": "python",
   "pygments_lexer": "ipython3",
   "version": "3.7.6"
  }
 },
 "nbformat": 4,
 "nbformat_minor": 4
}
